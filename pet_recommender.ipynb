{
 "cells": [
  {
   "cell_type": "code",
   "execution_count": 78,
   "metadata": {},
   "outputs": [
    {
     "name": "stdout",
     "output_type": "stream",
     "text": [
      "Index(['index', 'Name', 'DateTime', 'MonthYear', 'Date of Birth',\n",
      "       'Outcome Type', 'Outcome Subtype', 'animal_Type', 'Sex_upon_Outcome',\n",
      "       'Age_upon_Outcome', 'Breed', 'Color', 'Medicine'],\n",
      "      dtype='object')\n"
     ]
    }
   ],
   "source": [
    "import pandas as pd\n",
    "import numpy as np\n",
    "from sklearn.feature_extraction.text import CountVectorizer\n",
    "from sklearn.metrics.pairwise import cosine_similarity\n",
    "###### helper functions. Use them when needed #######\n",
    "def get_title_from_index(index):\n",
    "\treturn df[df.index == index][\"Medicine\"].values[0]\n",
    "\n",
    "def get_index_from_title(Medicine):\n",
    "\treturn df[df.Medicine == Medicine][\"index\"].values[0]\n",
    "##################################################\n",
    "\n",
    "##Step 1: Read CSV File\n",
    "df = pd.read_csv(\"pet.csv\")\n",
    "\n",
    "print (df.columns)"
   ]
  },
  {
   "cell_type": "code",
   "execution_count": 79,
   "metadata": {},
   "outputs": [],
   "source": [
    "##Step 2: Select Features\n",
    "features = ['animal_Type', 'Sex_upon_Outcome', 'Age_upon_Outcome', 'Breed', 'Medicine']"
   ]
  },
  {
   "cell_type": "code",
   "execution_count": 80,
   "metadata": {},
   "outputs": [
    {
     "name": "stdout",
     "output_type": "stream",
     "text": [
      "Combined features: 0         Dog Neutered Male 1 year Pit Bull Mix Oxygen\n",
      "1    Cat Neutered Male 5 months Domestic Shorthair ...\n",
      "2    Cat Spayed Female 10 months Domestic Shorthair...\n",
      "3    Dog Neutered Male 5 years Border Terrier Mix y...\n",
      "4         Other Unknown 2 years Raccoon Mix tolazoline\n",
      "Name: combine_features, dtype: object\n"
     ]
    }
   ],
   "source": [
    "##Step 3: Create a column in DF which combines all selected features\n",
    "for feature in features:\n",
    "    df[feature] = df[feature].fillna('')\n",
    "\n",
    "\n",
    "def combine_features(row):\n",
    "    try:\n",
    "        return row['animal_Type']+\" \"+row['Sex_upon_Outcome']+\" \"+row['Age_upon_Outcome']+\" \"+row['Breed']+ \" \"+row['Medicine']\n",
    "    except:\n",
    "        print (\"Error:\",row)\n",
    "\n",
    "df[\"combine_features\"] = df.apply(combine_features, axis=1)\n",
    "\n",
    "print ( \"Combined features:\", df[\"combine_features\"].head())"
   ]
  },
  {
   "cell_type": "code",
   "execution_count": 81,
   "metadata": {},
   "outputs": [],
   "source": [
    "##Step 4: Create count matrix from this new combined column\n",
    "\n",
    "cv = CountVectorizer()\n",
    "\n",
    "\n",
    "count_matrix = cv.fit_transform(df[\"combine_features\"])"
   ]
  },
  {
   "cell_type": "code",
   "execution_count": 88,
   "metadata": {},
   "outputs": [],
   "source": [
    "##Step 5: Compute the Cosine Similarity based on the count_matrix\n",
    "cosine_sim = cosine_similarity(count_matrix)\n",
    "\n",
    "most_used_medicine = \"Oxygen\"\n"
   ]
  },
  {
   "cell_type": "code",
   "execution_count": 89,
   "metadata": {},
   "outputs": [],
   "source": [
    "## Step 6: Get index of this pet from its medicine\n",
    "pet_index = int(get_index_from_title(most_used_medicine))\n",
    "\n",
    "similar_med = list(enumerate(cosine_sim[pet_index]))\n",
    "\n"
   ]
  },
  {
   "cell_type": "code",
   "execution_count": 90,
   "metadata": {},
   "outputs": [],
   "source": [
    "## Step 7: Get a list of similar meds in descending order of similarity score\n",
    "sorted_similar_meds = sorted(similar_med , key=lambda x:x[1],reverse=True)"
   ]
  },
  {
   "cell_type": "code",
   "execution_count": 92,
   "metadata": {},
   "outputs": [
    {
     "name": "stdout",
     "output_type": "stream",
     "text": [
      "Oxygen\n",
      "Lidocaine\n",
      "Ampicillin\n",
      "Heparin\n",
      "inflammatory\n",
      "Oxygen\n",
      "mannitol\n",
      "anaesthetic\n",
      "Dextrose\n",
      "Oxygen\n",
      "inflammatory\n",
      "alfaxalone\n",
      "Adrenaline\n",
      "hydroxyzine\n",
      "Oxygen\n",
      "inflammatory\n",
      "Heparin\n",
      "isoflurane\n",
      "Amoxicillin\n",
      "Ampicillin\n",
      "Cefazolin\n",
      "sulfonamide\n",
      "Oxygen\n",
      "Clindamycin\n",
      "inflammatory\n",
      "mannitol\n",
      "Adrenaline\n",
      "Enrofloxacin\n",
      "mannitol\n",
      "Cefazolin\n",
      "sulfonamide\n",
      "hydroxyzine\n",
      "isoflurane\n",
      "Vitamin K14\n",
      "Potassium chloride\n",
      "Potassium chloride\n",
      "Oxygen\n",
      "Opioids\n",
      "Oxygen\n",
      "hydroxyzine\n",
      "isoflurane\n",
      "Adrenaline\n",
      "xylazine\n",
      "Anticholinergic\n",
      "Opioids\n",
      "Crystalloid\n",
      "yohimbine\n",
      "Florfenicol\n",
      "anaesthetic\n",
      "Amoxicillin\n",
      "sulfonamide\n"
     ]
    }
   ],
   "source": [
    "## Step 8: Print titles of first 50 medicinies\n",
    "i=0\n",
    "for meds in sorted_similar_meds:\n",
    "    print (get_title_from_index(meds[0]))\n",
    "    i=i+1\n",
    "    if i>50:\n",
    "        break"
   ]
  },
  {
   "cell_type": "code",
   "execution_count": null,
   "metadata": {},
   "outputs": [],
   "source": []
  }
 ],
 "metadata": {
  "kernelspec": {
   "display_name": "Python 3",
   "language": "python",
   "name": "python3"
  },
  "language_info": {
   "codemirror_mode": {
    "name": "ipython",
    "version": 3
   },
   "file_extension": ".py",
   "mimetype": "text/x-python",
   "name": "python",
   "nbconvert_exporter": "python",
   "pygments_lexer": "ipython3",
   "version": "3.7.6"
  }
 },
 "nbformat": 4,
 "nbformat_minor": 4
}
